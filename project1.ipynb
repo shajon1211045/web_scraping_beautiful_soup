{
 "cells": [
  {
   "cell_type": "markdown",
   "metadata": {},
   "source": [
    "<h1> SCRAPING HOSPITAL NAME FROM PAGES BY CLINIC ID <h1> "
   ]
  },
  {
   "cell_type": "markdown",
   "metadata": {},
   "source": [
    ">goal of this project is to scrape through various pages, then find and seperate the name of the hospitals and finally enlist and store them by <b>'clinic id'</b> and <b>'clinic name'</b> columns in csv format."
   ]
  },
  {
   "cell_type": "markdown",
   "metadata": {},
   "source": [
    "<h3> importing necessary libraries</h3>"
   ]
  },
  {
   "cell_type": "code",
   "execution_count": 1,
   "metadata": {
    "scrolled": true
   },
   "outputs": [],
   "source": [
    "import requests\n",
    "from bs4 import BeautifulSoup\n",
    "import pandas as pd"
   ]
  },
  {
   "cell_type": "markdown",
   "metadata": {},
   "source": [
    "<h3> creating a function to scrape the name </h3> "
   ]
  },
  {
   "cell_type": "markdown",
   "metadata": {},
   "source": [
    ">By inspecting the pages it was found that in most cases the last '<h1' tag usually contains the clinic name."
   ]
  },
  {
   "cell_type": "code",
   "execution_count": 2,
   "metadata": {},
   "outputs": [],
   "source": [
    "def get_clinic_name(clinic_id):\n",
    "    url            = f'https://{clinic_id}.portal.athenahealth.com/'\n",
    "    response       = requests.get(url)\n",
    "    html           = response.text\n",
    "    soup           = BeautifulSoup(html,'html.parser')\n",
    "    clinic_name    = soup.find_all('h1')[-1].text.strip()\n",
    "    return clinic_name"
   ]
  },
  {
   "cell_type": "markdown",
   "metadata": {},
   "source": [
    ">a sample of 20 data was taken to test the loop."
   ]
  },
  {
   "cell_type": "code",
   "execution_count": 3,
   "metadata": {},
   "outputs": [],
   "source": [
    "start  = 12690\n",
    "end    = 12710"
   ]
  },
  {
   "cell_type": "markdown",
   "metadata": {},
   "source": [
    "<h3>making a list of clinic name according to clinic id </h3>"
   ]
  },
  {
   "cell_type": "code",
   "execution_count": 7,
   "metadata": {},
   "outputs": [
    {
     "name": "stdout",
     "output_type": "stream",
     "text": [
      "12690\n",
      "12691\n",
      "12692\n",
      "12693\n",
      "12694\n",
      "12695\n",
      "12696\n",
      "12697\n",
      "12698\n",
      "12699\n",
      "12700\n",
      "12701\n",
      "12702\n",
      "12703\n",
      "12704\n",
      "12705\n",
      "12706\n",
      "12707\n",
      "12708\n",
      "12709\n",
      "12710\n"
     ]
    }
   ],
   "source": [
    "master_list = []\n",
    "for clinic_id in range(start,end+1):\n",
    "    data_dict = {}\n",
    "    data_dict['clinic_id'] = clinic_id\n",
    "    data_dict['clinic_name'] = get_clinic_name(clinic_id)\n",
    "    '''few unusual cases there were no hospital name found,instead there were the following messages which are\n",
    "    filtered out'''\n",
    "    if data_dict['clinic_name'] != 'Payment Confirmation' and data_dict['clinic_name'] != '' and data_dict['clinic_name'] != \"Sorry, we can't find that practice. Make sure you typed the right address.\":\n",
    "        master_list.append(data_dict)\n",
    "    print(clinic_id)# just to make sure every id is tested \n",
    "    "
   ]
  },
  {
   "cell_type": "code",
   "execution_count": 8,
   "metadata": {},
   "outputs": [
    {
     "data": {
      "text/plain": [
       "[{'clinic_id': 12691, 'clinic_name': 'Ergomedica'},\n",
       " {'clinic_id': 12693, 'clinic_name': 'Altamonte Family Practice'},\n",
       " {'clinic_id': 12694, 'clinic_name': 'Open Health Care Clinic'},\n",
       " {'clinic_id': 12695, 'clinic_name': 'Dr. Richard Handelsman'},\n",
       " {'clinic_id': 12696, 'clinic_name': \"Women's CenterforIntegrative Health\"},\n",
       " {'clinic_id': 12697, 'clinic_name': 'Eastern Urological Associates'},\n",
       " {'clinic_id': 12702, 'clinic_name': 'Chand Rohatgi MD'},\n",
       " {'clinic_id': 12704, 'clinic_name': 'Volunteer Healthcare Clinic'},\n",
       " {'clinic_id': 12705, 'clinic_name': 'Christ Clinic'},\n",
       " {'clinic_id': 12706, 'clinic_name': 'Olga Joukovski, MD, PA'},\n",
       " {'clinic_id': 12707, 'clinic_name': 'Restore Health Clinic'},\n",
       " {'clinic_id': 12708,\n",
       "  'clinic_name': 'STUART L. SILVERMAN, M.D., A MEDICAL CORPORATION'},\n",
       " {'clinic_id': 12709, 'clinic_name': 'George E. Weems Clinics'}]"
      ]
     },
     "execution_count": 8,
     "metadata": {},
     "output_type": "execute_result"
    }
   ],
   "source": [
    "master_list"
   ]
  },
  {
   "cell_type": "markdown",
   "metadata": {},
   "source": [
    "<h3>creating a dataframe with pandas</h3>"
   ]
  },
  {
   "cell_type": "code",
   "execution_count": 9,
   "metadata": {},
   "outputs": [],
   "source": [
    "df = pd.DataFrame(master_list)"
   ]
  },
  {
   "cell_type": "code",
   "execution_count": 10,
   "metadata": {},
   "outputs": [
    {
     "data": {
      "text/html": [
       "<div>\n",
       "<style scoped>\n",
       "    .dataframe tbody tr th:only-of-type {\n",
       "        vertical-align: middle;\n",
       "    }\n",
       "\n",
       "    .dataframe tbody tr th {\n",
       "        vertical-align: top;\n",
       "    }\n",
       "\n",
       "    .dataframe thead th {\n",
       "        text-align: right;\n",
       "    }\n",
       "</style>\n",
       "<table border=\"1\" class=\"dataframe\">\n",
       "  <thead>\n",
       "    <tr style=\"text-align: right;\">\n",
       "      <th></th>\n",
       "      <th>clinic_id</th>\n",
       "      <th>clinic_name</th>\n",
       "    </tr>\n",
       "  </thead>\n",
       "  <tbody>\n",
       "    <tr>\n",
       "      <th>0</th>\n",
       "      <td>12691</td>\n",
       "      <td>Ergomedica</td>\n",
       "    </tr>\n",
       "    <tr>\n",
       "      <th>1</th>\n",
       "      <td>12693</td>\n",
       "      <td>Altamonte Family Practice</td>\n",
       "    </tr>\n",
       "    <tr>\n",
       "      <th>2</th>\n",
       "      <td>12694</td>\n",
       "      <td>Open Health Care Clinic</td>\n",
       "    </tr>\n",
       "    <tr>\n",
       "      <th>3</th>\n",
       "      <td>12695</td>\n",
       "      <td>Dr. Richard Handelsman</td>\n",
       "    </tr>\n",
       "    <tr>\n",
       "      <th>4</th>\n",
       "      <td>12696</td>\n",
       "      <td>Women's CenterforIntegrative Health</td>\n",
       "    </tr>\n",
       "    <tr>\n",
       "      <th>5</th>\n",
       "      <td>12697</td>\n",
       "      <td>Eastern Urological Associates</td>\n",
       "    </tr>\n",
       "    <tr>\n",
       "      <th>6</th>\n",
       "      <td>12702</td>\n",
       "      <td>Chand Rohatgi MD</td>\n",
       "    </tr>\n",
       "    <tr>\n",
       "      <th>7</th>\n",
       "      <td>12704</td>\n",
       "      <td>Volunteer Healthcare Clinic</td>\n",
       "    </tr>\n",
       "    <tr>\n",
       "      <th>8</th>\n",
       "      <td>12705</td>\n",
       "      <td>Christ Clinic</td>\n",
       "    </tr>\n",
       "    <tr>\n",
       "      <th>9</th>\n",
       "      <td>12706</td>\n",
       "      <td>Olga Joukovski, MD, PA</td>\n",
       "    </tr>\n",
       "    <tr>\n",
       "      <th>10</th>\n",
       "      <td>12707</td>\n",
       "      <td>Restore Health Clinic</td>\n",
       "    </tr>\n",
       "    <tr>\n",
       "      <th>11</th>\n",
       "      <td>12708</td>\n",
       "      <td>STUART L. SILVERMAN, M.D., A MEDICAL CORPORATION</td>\n",
       "    </tr>\n",
       "    <tr>\n",
       "      <th>12</th>\n",
       "      <td>12709</td>\n",
       "      <td>George E. Weems Clinics</td>\n",
       "    </tr>\n",
       "  </tbody>\n",
       "</table>\n",
       "</div>"
      ],
      "text/plain": [
       "    clinic_id                                       clinic_name\n",
       "0       12691                                        Ergomedica\n",
       "1       12693                         Altamonte Family Practice\n",
       "2       12694                           Open Health Care Clinic\n",
       "3       12695                            Dr. Richard Handelsman\n",
       "4       12696               Women's CenterforIntegrative Health\n",
       "5       12697                     Eastern Urological Associates\n",
       "6       12702                                  Chand Rohatgi MD\n",
       "7       12704                       Volunteer Healthcare Clinic\n",
       "8       12705                                     Christ Clinic\n",
       "9       12706                            Olga Joukovski, MD, PA\n",
       "10      12707                             Restore Health Clinic\n",
       "11      12708  STUART L. SILVERMAN, M.D., A MEDICAL CORPORATION\n",
       "12      12709                           George E. Weems Clinics"
      ]
     },
     "execution_count": 10,
     "metadata": {},
     "output_type": "execute_result"
    }
   ],
   "source": [
    "df"
   ]
  },
  {
   "cell_type": "markdown",
   "metadata": {},
   "source": [
    "<h3>finally converting the dataframe into a csv format</h3>"
   ]
  },
  {
   "cell_type": "code",
   "execution_count": 11,
   "metadata": {},
   "outputs": [],
   "source": [
    "df.to_csv('clinic_data.csv',index = False )"
   ]
  }
 ],
 "metadata": {
  "kernelspec": {
   "display_name": "Python 3",
   "language": "python",
   "name": "python3"
  },
  "language_info": {
   "codemirror_mode": {
    "name": "ipython",
    "version": 3
   },
   "file_extension": ".py",
   "mimetype": "text/x-python",
   "name": "python",
   "nbconvert_exporter": "python",
   "pygments_lexer": "ipython3",
   "version": "3.8.10"
  }
 },
 "nbformat": 4,
 "nbformat_minor": 4
}
